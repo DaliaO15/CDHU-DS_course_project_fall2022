{
 "cells": [
  {
   "cell_type": "code",
   "execution_count": null,
   "id": "0d759580-f530-4f47-8ece-3a277a5a7413",
   "metadata": {},
   "outputs": [],
   "source": [
    "\"\"\"\n",
    "To be able to do transfer learning a base model needs to be trained\n",
    "\n",
    "1. Read a subset of FairFace data set. TODO: Read entire FairFace data set\n",
    "2. Build base model\n",
    "    2.1 Choose some model. TODO: Be specific about model chosen\n",
    "    2.2 Random weights\n",
    "    2.3 Input size as appropriate\n",
    "3. Train base model\n",
    "\"\"\""
   ]
  },
  {
   "cell_type": "code",
   "execution_count": 6,
   "id": "85b2ea73-1ba5-4a88-9f59-1c2422604920",
   "metadata": {},
   "outputs": [],
   "source": [
    "import numpy as np\n",
    "from tensorflow import keras\n",
    "from tensorflow.keras import layers\n",
    "import tensorflow as tf\n",
    "import fairnessMetrics as fm"
   ]
  },
  {
   "cell_type": "code",
   "execution_count": 7,
   "id": "8050efd4-b27f-41dd-b1b7-566ff3e67d79",
   "metadata": {},
   "outputs": [],
   "source": [
    "# TODO: Replace with Christophs update code for loading data sets. \n",
    "def readImages(folderName, image_size, batch_size):\n",
    "    train_ds = keras.preprocessing.image_dataset_from_directory(\n",
    "        folderName,\n",
    "        validation_split=0.2,\n",
    "        subset=\"training\",\n",
    "        seed=1337,\n",
    "        image_size=image_size,\n",
    "        batch_size=batch_size\n",
    "    )\n",
    "    val_ds = keras.preprocessing.image_dataset_from_directory(\n",
    "        folderName,\n",
    "        validation_split=0.2,\n",
    "        subset=\"validation\",\n",
    "        seed=1337,\n",
    "        image_size=image_size,\n",
    "        batch_size=batch_size\n",
    "    )\n",
    "    return (train_ds, val_ds)"
   ]
  },
  {
   "cell_type": "code",
   "execution_count": null,
   "id": "08e0af77-6800-483e-91df-62fd539ddef2",
   "metadata": {},
   "outputs": [],
   "source": [
    "# Build base model\n",
    "# TODO: Choose appropriate model\n",
    "base_model = keras.applications.Xception(\n",
    "    weights=None, \n",
    "    input_shape=layers.Input(shape=(224, 224, 3))\n",
    "    include_top=False,\n",
    ")"
   ]
  },
  {
   "cell_type": "code",
   "execution_count": null,
   "id": "5119e1e4-c90b-49e4-9eb7-bc1de998237b",
   "metadata": {},
   "outputs": [],
   "source": [
    "# \n",
    "metrics_list = [\"accuracy\",\n",
    "                tf.keras.metrics.TruePositives(), \n",
    "                tf.keras.metrics.TrueNegatives(),\n",
    "                tf.keras.metrics.FalsePositives(), \n",
    "                tf.keras.metrics.FalseNegatives(), \n",
    "                fm.TruePositiveRate(),\n",
    "                fm.TrueNegativeRate(),\n",
    "                fm.FalsePositiveRate(),\n",
    "                fm.FalseNegativeRate(),\n",
    "                fm.PositivePredictedValue(),\n",
    "                fm.FalseDiscoveryRate(),\n",
    "                fm.NegativePredictedValue(),\n",
    "                fm.FalseOmissionRate(),\n",
    "                fm.BinaryDemographicParityDiff(),\n",
    "                fm.DemographicParity(),\n",
    "                fm.BinaryEqualizedOddsDiff(),\n",
    "                fm.BinaryProportionalParityDiff(),\n",
    "                fm.ProportionalParity(),\n",
    "                fm.BinaryPredictiveRateParityDiff(),\n",
    "                fm.PredictiveRateParity(),\n",
    "                fm.BinaryAccuracyParityDiff(),\n",
    "                fm.AccuracyParity(),\n",
    "                fm.BinaryFalseNegativeRateParityDiff(),\n",
    "                fm.BinaryFalsePositiveRateParityDiff(),\n",
    "                fm.BinaryNegativePredictiveRateParityDiff(),\n",
    "                fm.NegativePredictiveRateParity(),\n",
    "                fm.BinarySpecificityParityDiff()]\n",
    "\n",
    "optimizer = keras.optimizers.Adam(learning_rate=1e-3) # TODO: Choose appropriate optimizer and learning_rate\n",
    "\n",
    "base_model.compile(optimizer=optimizer, \n",
    "              loss=\"binary_crossentropy\", # TODO: look into this\n",
    "              metrics=metrics_list\n",
    ")"
   ]
  },
  {
   "cell_type": "code",
   "execution_count": null,
   "id": "76b19501-b8d0-44b1-b653-97d7931b1237",
   "metadata": {},
   "outputs": [],
   "source": [
    "\"\"\"\n",
    "Could be implemented?: Batch the data and use caching & prefetching to optimize loading speed\n",
    "\"\"\""
   ]
  },
  {
   "cell_type": "code",
   "execution_count": null,
   "id": "fc6ee4f5-3cf7-414a-ab6e-1d69162c9ec5",
   "metadata": {},
   "outputs": [],
   "source": [
    "\"\"\"\n",
    "DATA AUGMENTATION COULD BE ADDED HERE\n",
    "\"\"\""
   ]
  },
  {
   "cell_type": "code",
   "execution_count": null,
   "id": "b8ff8efa-ecc8-4431-a26f-5ae9746da54a",
   "metadata": {},
   "outputs": [],
   "source": [
    "image_size = (224, 224) # This step should be standardizing, should be able to be changed to what is approptiate\n",
    "batch_size = 32\n",
    "data = readImages(\"../../FairFace\", image_size, batch_size)"
   ]
  },
  {
   "cell_type": "code",
   "execution_count": null,
   "id": "6f3830e7-c306-477c-a670-ad99791de6c2",
   "metadata": {},
   "outputs": [],
   "source": [
    "epochs = 20\n",
    "base_model.fit(data[0], epochs=epochs, validation_data=data[1])"
   ]
  },
  {
   "cell_type": "code",
   "execution_count": null,
   "id": "a40e0e86-52a8-422d-807b-bd250e21483b",
   "metadata": {},
   "outputs": [],
   "source": [
    "base_model.save('/tmp/model')"
   ]
  }
 ],
 "metadata": {
  "kernelspec": {
   "display_name": "Python 3 (ipykernel)",
   "language": "python",
   "name": "python3"
  },
  "language_info": {
   "codemirror_mode": {
    "name": "ipython",
    "version": 3
   },
   "file_extension": ".py",
   "mimetype": "text/x-python",
   "name": "python",
   "nbconvert_exporter": "python",
   "pygments_lexer": "ipython3",
   "version": "3.8.10"
  }
 },
 "nbformat": 4,
 "nbformat_minor": 5
}
