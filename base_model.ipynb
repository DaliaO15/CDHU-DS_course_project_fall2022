{
 "cells": [
  {
   "cell_type": "code",
   "execution_count": 21,
   "id": "0d759580-f530-4f47-8ece-3a277a5a7413",
   "metadata": {},
   "outputs": [
    {
     "data": {
      "text/plain": [
       "'\\nTo be able to do transfer learning a base model needs to be trained\\n\\n1. Read a subset of FairFace data set. TODO: Read entire FairFace data set\\n2. Build base model\\n    2.1 Choose some model. TODO: Be specific about model chosen\\n    2.2 Random weights\\n    2.3 Input size as appropriate\\n3. Train base model\\n'"
      ]
     },
     "execution_count": 21,
     "metadata": {},
     "output_type": "execute_result"
    }
   ],
   "source": [
    "\"\"\"\n",
    "To be able to do transfer learning a base model needs to be trained\n",
    "\n",
    "1. Read a subset of FairFace data set. TODO: Read entire FairFace data set\n",
    "2. Build base model\n",
    "    2.1 Choose some model. TODO: Be specific about model chosen\n",
    "    2.2 Random weights\n",
    "    2.3 Input size as appropriate\n",
    "3. Train base model\n",
    "\"\"\""
   ]
  },
  {
   "cell_type": "code",
   "execution_count": 22,
   "id": "85b2ea73-1ba5-4a88-9f59-1c2422604920",
   "metadata": {},
   "outputs": [],
   "source": [
    "import numpy as np\n",
    "from tensorflow import keras\n",
    "from tensorflow.keras import layers\n",
    "import tensorflow as tf\n",
    "from fairness import fairnessMetrics as fm"
   ]
  },
  {
   "cell_type": "code",
   "execution_count": 7,
   "id": "c2740786-b451-4e75-a2dd-5ca1dd48ffd8",
   "metadata": {},
   "outputs": [
    {
     "name": "stdout",
     "output_type": "stream",
     "text": [
      "Collecting keras-efficientnet\n",
      "  Downloading keras_efficientnet-0.1.4-py3-none-any.whl (17 kB)\n",
      "Installing collected packages: keras-efficientnet\n",
      "Successfully installed keras-efficientnet-0.1.4\n"
     ]
    }
   ],
   "source": [
    "!pip install keras-efficientnet"
   ]
  },
  {
   "cell_type": "code",
   "execution_count": 54,
   "id": "8050efd4-b27f-41dd-b1b7-566ff3e67d79",
   "metadata": {},
   "outputs": [],
   "source": [
    "# TODO: Replace with Christophs update code for loading data sets. \n",
    "def readImages(folderName, image_size, batch_size):\n",
    "    train_ds = keras.preprocessing.image_dataset_from_directory(\n",
    "        folderName,\n",
    "        validation_split=0.2,\n",
    "        subset=\"training\",\n",
    "        seed=1337,\n",
    "        image_size=image_size,\n",
    "        batch_size=batch_size,\n",
    "        labels='inferred'\n",
    "    )\n",
    "    val_ds = keras.preprocessing.image_dataset_from_directory(\n",
    "        folderName,\n",
    "        validation_split=0.2,\n",
    "        subset=\"validation\",\n",
    "        seed=1337,\n",
    "        image_size=image_size,\n",
    "        batch_size=batch_size,\n",
    "        labels='inferred'\n",
    "    )\n",
    "    return (train_ds, val_ds)"
   ]
  },
  {
   "cell_type": "code",
   "execution_count": 70,
   "id": "08e0af77-6800-483e-91df-62fd539ddef2",
   "metadata": {},
   "outputs": [],
   "source": [
    "# Build base model\n",
    "# TODO: Choose appropriate model\n",
    "base_model = keras.applications.VGG16(\n",
    "    weights=None, \n",
    "    input_shape=(224, 224, 3),\n",
    "    include_top=True,\n",
    "    classes=1,\n",
    "    classifier_activation=\"sigmoid\",\n",
    ")"
   ]
  },
  {
   "cell_type": "code",
   "execution_count": 71,
   "id": "5119e1e4-c90b-49e4-9eb7-bc1de998237b",
   "metadata": {},
   "outputs": [],
   "source": [
    "# \n",
    "metrics_list = [\"accuracy\",\n",
    "                tf.keras.metrics.TruePositives(), \n",
    "                tf.keras.metrics.TrueNegatives(),\n",
    "                tf.keras.metrics.FalsePositives(), \n",
    "                tf.keras.metrics.FalseNegatives(), \n",
    "                fm.TruePositiveRate(),\n",
    "                fm.TrueNegativeRate(),\n",
    "                fm.FalsePositiveRate(),\n",
    "                fm.FalseNegativeRate(),\n",
    "                fm.PositivePredictedValue(),\n",
    "                fm.FalseDiscoveryRate(),\n",
    "                fm.NegativePredictedValue(),\n",
    "                fm.FalseOmissionRate(),\n",
    "                fm.BinaryDemographicParityDiff(),\n",
    "                fm.DemographicParity(),\n",
    "                fm.BinaryEqualizedOddsDiff(),\n",
    "                fm.BinaryProportionalParityDiff(),\n",
    "                fm.ProportionalParity(),\n",
    "                fm.BinaryPredictiveRateParityDiff(),\n",
    "                fm.PredictiveRateParity(),\n",
    "                fm.BinaryAccuracyParityDiff(),\n",
    "                fm.AccuracyParity(),\n",
    "                fm.BinaryFalseNegativeRateParityDiff(),\n",
    "                fm.BinaryFalsePositiveRateParityDiff(),\n",
    "                fm.BinaryNegativePredictiveRateParityDiff(),\n",
    "                fm.NegativePredictiveRateParity(),\n",
    "                fm.BinarySpecificityParityDiff()]\n",
    "\n",
    "optimizer = keras.optimizers.Adam(learning_rate=1e-3) # TODO: Choose appropriate optimizer and learning_rate\n",
    "\n",
    "base_model.compile(optimizer=optimizer, \n",
    "                   loss=\"binary_crossentropy\", # TODO: look into this\n",
    "                   #loss=\"categorical_crossentropy\"\n",
    "                   metrics=metrics_list\n",
    ")"
   ]
  },
  {
   "cell_type": "code",
   "execution_count": null,
   "id": "76b19501-b8d0-44b1-b653-97d7931b1237",
   "metadata": {},
   "outputs": [],
   "source": [
    "\"\"\"\n",
    "Could be implemented?: Batch the data and use caching & prefetching to optimize loading speed\n",
    "\"\"\""
   ]
  },
  {
   "cell_type": "code",
   "execution_count": null,
   "id": "fc6ee4f5-3cf7-414a-ab6e-1d69162c9ec5",
   "metadata": {},
   "outputs": [],
   "source": [
    "\"\"\"\n",
    "DATA AUGMENTATION COULD BE ADDED HERE\n",
    "\"\"\""
   ]
  },
  {
   "cell_type": "code",
   "execution_count": 72,
   "id": "b8ff8efa-ecc8-4431-a26f-5ae9746da54a",
   "metadata": {},
   "outputs": [
    {
     "name": "stdout",
     "output_type": "stream",
     "text": [
      "Found 200 files belonging to 2 classes.\n",
      "Using 160 files for training.\n",
      "Found 200 files belonging to 2 classes.\n",
      "Using 40 files for validation.\n"
     ]
    }
   ],
   "source": [
    "image_size = (224, 224) # This step should be standardizing, should be able to be changed to what is approptiate\n",
    "batch_size = 32\n",
    "data = readImages(\"FairFace_subset\", image_size, batch_size)"
   ]
  },
  {
   "cell_type": "code",
   "execution_count": 73,
   "id": "0328401e-6dff-4831-9018-1547b19956d5",
   "metadata": {},
   "outputs": [
    {
     "name": "stdout",
     "output_type": "stream",
     "text": [
      "Model: \"vgg16\"\n",
      "_________________________________________________________________\n",
      "Layer (type)                 Output Shape              Param #   \n",
      "=================================================================\n",
      "input_11 (InputLayer)        [(None, 224, 224, 3)]     0         \n",
      "_________________________________________________________________\n",
      "block1_conv1 (Conv2D)        (None, 224, 224, 64)      1792      \n",
      "_________________________________________________________________\n",
      "block1_conv2 (Conv2D)        (None, 224, 224, 64)      36928     \n",
      "_________________________________________________________________\n",
      "block1_pool (MaxPooling2D)   (None, 112, 112, 64)      0         \n",
      "_________________________________________________________________\n",
      "block2_conv1 (Conv2D)        (None, 112, 112, 128)     73856     \n",
      "_________________________________________________________________\n",
      "block2_conv2 (Conv2D)        (None, 112, 112, 128)     147584    \n",
      "_________________________________________________________________\n",
      "block2_pool (MaxPooling2D)   (None, 56, 56, 128)       0         \n",
      "_________________________________________________________________\n",
      "block3_conv1 (Conv2D)        (None, 56, 56, 256)       295168    \n",
      "_________________________________________________________________\n",
      "block3_conv2 (Conv2D)        (None, 56, 56, 256)       590080    \n",
      "_________________________________________________________________\n",
      "block3_conv3 (Conv2D)        (None, 56, 56, 256)       590080    \n",
      "_________________________________________________________________\n",
      "block3_pool (MaxPooling2D)   (None, 28, 28, 256)       0         \n",
      "_________________________________________________________________\n",
      "block4_conv1 (Conv2D)        (None, 28, 28, 512)       1180160   \n",
      "_________________________________________________________________\n",
      "block4_conv2 (Conv2D)        (None, 28, 28, 512)       2359808   \n",
      "_________________________________________________________________\n",
      "block4_conv3 (Conv2D)        (None, 28, 28, 512)       2359808   \n",
      "_________________________________________________________________\n",
      "block4_pool (MaxPooling2D)   (None, 14, 14, 512)       0         \n",
      "_________________________________________________________________\n",
      "block5_conv1 (Conv2D)        (None, 14, 14, 512)       2359808   \n",
      "_________________________________________________________________\n",
      "block5_conv2 (Conv2D)        (None, 14, 14, 512)       2359808   \n",
      "_________________________________________________________________\n",
      "block5_conv3 (Conv2D)        (None, 14, 14, 512)       2359808   \n",
      "_________________________________________________________________\n",
      "block5_pool (MaxPooling2D)   (None, 7, 7, 512)         0         \n",
      "_________________________________________________________________\n",
      "flatten (Flatten)            (None, 25088)             0         \n",
      "_________________________________________________________________\n",
      "fc1 (Dense)                  (None, 4096)              102764544 \n",
      "_________________________________________________________________\n",
      "fc2 (Dense)                  (None, 4096)              16781312  \n",
      "_________________________________________________________________\n",
      "predictions (Dense)          (None, 1)                 4097      \n",
      "=================================================================\n",
      "Total params: 134,264,641\n",
      "Trainable params: 134,264,641\n",
      "Non-trainable params: 0\n",
      "_________________________________________________________________\n"
     ]
    }
   ],
   "source": [
    "base_model.summary()"
   ]
  },
  {
   "cell_type": "code",
   "execution_count": 74,
   "id": "6f3830e7-c306-477c-a670-ad99791de6c2",
   "metadata": {},
   "outputs": [
    {
     "name": "stdout",
     "output_type": "stream",
     "text": [
      "Epoch 1/20\n"
     ]
    },
    {
     "name": "stderr",
     "output_type": "stream",
     "text": [
      "2022-11-20 15:33:56.720937: I tensorflow/compiler/mlir/mlir_graph_optimization_pass.cc:185] None of the MLIR Optimization Passes are enabled (registered 2)\n"
     ]
    },
    {
     "name": "stdout",
     "output_type": "stream",
     "text": [
      "5/5 [==============================] - 168s 30s/step - loss: 3125.7681 - accuracy: 0.4938 - true_positives_231: 50.0000 - true_negatives_154: 29.0000 - false_positives_187: 51.0000 - false_negatives_198: 30.0000 - true_positive_rate: 0.6250 - true_negative_rate: 0.3625 - false_positive_rate: 0.6375 - false_negative_rate: 0.3750 - positive_predicted_value: 0.4950 - false_discovery_rate: 0.5050 - negative_predicted_value: 0.4915 - false_omission_rate: 0.5085 - binary_demographic_parity_diff: 42.0000 - demographic_parity: 101.0000 - binary_equalized_odds_diff: -0.2625 - binary_proportional_parity_diff: 0.2625 - proportional_parity: 0.6313 - binary_predictive_rate_parity_diff: 0.0035 - predictive_rate_parity: 0.4950 - binary_accuracy_parity_diff: -0.0125 - accuracy_parity: 0.4938 - false_negative_rate_parity_diff: 0.2625 - false_positive_rate_parity_diff: -0.2625 - binary_negative_predictive_rate_parity_diff: -0.0035 - negative_predictive_rate_parity: 0.4950 - binary_specificity_parity_diff: 0.2625 - val_loss: 0.6939 - val_accuracy: 0.5000 - val_true_positives_231: 0.0000e+00 - val_true_negatives_154: 20.0000 - val_false_positives_187: 0.0000e+00 - val_false_negatives_198: 20.0000 - val_true_positive_rate: 0.0000e+00 - val_true_negative_rate: 1.0000 - val_false_positive_rate: 0.0000e+00 - val_false_negative_rate: 1.0000 - val_positive_predicted_value: 0.0000e+00 - val_false_discovery_rate: 0.0000e+00 - val_negative_predicted_value: 0.5000 - val_false_omission_rate: 0.5000 - val_binary_demographic_parity_diff: -40.0000 - val_demographic_parity: 1.0000e-07 - val_binary_equalized_odds_diff: 1.0000 - val_binary_proportional_parity_diff: -1.0000 - val_proportional_parity: 0.0000e+00 - val_binary_predictive_rate_parity_diff: -0.5000 - val_predictive_rate_parity: 0.0000e+00 - val_binary_accuracy_parity_diff: 0.0000e+00 - val_accuracy_parity: 0.5000 - val_false_negative_rate_parity_diff: -1.0000 - val_false_positive_rate_parity_diff: 1.0000 - val_binary_negative_predictive_rate_parity_diff: 0.5000 - val_negative_predictive_rate_parity: 0.0000e+00 - val_binary_specificity_parity_diff: -1.0000\n",
      "Epoch 2/20\n",
      "5/5 [==============================] - 138s 28s/step - loss: 0.7024 - accuracy: 0.4875 - true_positives_231: 4.0000 - true_negatives_154: 74.0000 - false_positives_187: 6.0000 - false_negatives_198: 76.0000 - true_positive_rate: 0.0500 - true_negative_rate: 0.9250 - false_positive_rate: 0.0750 - false_negative_rate: 0.9500 - positive_predicted_value: 0.4000 - false_discovery_rate: 0.6000 - negative_predicted_value: 0.4933 - false_omission_rate: 0.5067 - binary_demographic_parity_diff: -140.0000 - demographic_parity: 10.0000 - binary_equalized_odds_diff: 0.8750 - binary_proportional_parity_diff: -0.8750 - proportional_parity: 0.0625 - binary_predictive_rate_parity_diff: -0.0933 - predictive_rate_parity: 0.4000 - binary_accuracy_parity_diff: -0.0250 - accuracy_parity: 0.4875 - false_negative_rate_parity_diff: -0.8750 - false_positive_rate_parity_diff: 0.8750 - binary_negative_predictive_rate_parity_diff: 0.0933 - negative_predictive_rate_parity: 0.4000 - binary_specificity_parity_diff: -0.8750 - val_loss: 0.6920 - val_accuracy: 0.5000 - val_true_positives_231: 20.0000 - val_true_negatives_154: 0.0000e+00 - val_false_positives_187: 20.0000 - val_false_negatives_198: 0.0000e+00 - val_true_positive_rate: 1.0000 - val_true_negative_rate: 0.0000e+00 - val_false_positive_rate: 1.0000 - val_false_negative_rate: 0.0000e+00 - val_positive_predicted_value: 0.5000 - val_false_discovery_rate: 0.5000 - val_negative_predicted_value: 0.0000e+00 - val_false_omission_rate: 0.0000e+00 - val_binary_demographic_parity_diff: 40.0000 - val_demographic_parity: 40.0000 - val_binary_equalized_odds_diff: -1.0000 - val_binary_proportional_parity_diff: 1.0000 - val_proportional_parity: 1.0000 - val_binary_predictive_rate_parity_diff: 0.5000 - val_predictive_rate_parity: 0.5000 - val_binary_accuracy_parity_diff: 0.0000e+00 - val_accuracy_parity: 0.5000 - val_false_negative_rate_parity_diff: 1.0000 - val_false_positive_rate_parity_diff: -1.0000 - val_binary_negative_predictive_rate_parity_diff: -0.5000 - val_negative_predictive_rate_parity: 0.5000 - val_binary_specificity_parity_diff: 1.0000\n",
      "Epoch 3/20\n",
      "5/5 [==============================] - 139s 28s/step - loss: 0.7727 - accuracy: 0.4875 - true_positives_231: 25.0000 - true_negatives_154: 53.0000 - false_positives_187: 27.0000 - false_negatives_198: 55.0000 - true_positive_rate: 0.3125 - true_negative_rate: 0.6625 - false_positive_rate: 0.3375 - false_negative_rate: 0.6875 - positive_predicted_value: 0.4808 - false_discovery_rate: 0.5192 - negative_predicted_value: 0.4907 - false_omission_rate: 0.5093 - binary_demographic_parity_diff: -56.0000 - demographic_parity: 52.0000 - binary_equalized_odds_diff: 0.3500 - binary_proportional_parity_diff: -0.3500 - proportional_parity: 0.3250 - binary_predictive_rate_parity_diff: -0.0100 - predictive_rate_parity: 0.4808 - binary_accuracy_parity_diff: -0.0250 - accuracy_parity: 0.4875 - false_negative_rate_parity_diff: -0.3500 - false_positive_rate_parity_diff: 0.3500 - binary_negative_predictive_rate_parity_diff: 0.0100 - negative_predictive_rate_parity: 0.4808 - binary_specificity_parity_diff: -0.3500 - val_loss: 0.6928 - val_accuracy: 0.4750 - val_true_positives_231: 10.0000 - val_true_negatives_154: 9.0000 - val_false_positives_187: 11.0000 - val_false_negatives_198: 10.0000 - val_true_positive_rate: 0.5000 - val_true_negative_rate: 0.4500 - val_false_positive_rate: 0.5500 - val_false_negative_rate: 0.5000 - val_positive_predicted_value: 0.4762 - val_false_discovery_rate: 0.5238 - val_negative_predicted_value: 0.4737 - val_false_omission_rate: 0.5263 - val_binary_demographic_parity_diff: 2.0000 - val_demographic_parity: 21.0000 - val_binary_equalized_odds_diff: -0.0500 - val_binary_proportional_parity_diff: 0.0500 - val_proportional_parity: 0.5250 - val_binary_predictive_rate_parity_diff: 0.0025 - val_predictive_rate_parity: 0.4762 - val_binary_accuracy_parity_diff: -0.0500 - val_accuracy_parity: 0.4750 - val_false_negative_rate_parity_diff: 0.0500 - val_false_positive_rate_parity_diff: -0.0500 - val_binary_negative_predictive_rate_parity_diff: -0.0025 - val_negative_predictive_rate_parity: 0.4762 - val_binary_specificity_parity_diff: 0.0500\n",
      "Epoch 4/20\n",
      "5/5 [==============================] - 141s 29s/step - loss: 0.6956 - accuracy: 0.4875 - true_positives_231: 71.0000 - true_negatives_154: 7.0000 - false_positives_187: 73.0000 - false_negatives_198: 9.0000 - true_positive_rate: 0.8875 - true_negative_rate: 0.0875 - false_positive_rate: 0.9125 - false_negative_rate: 0.1125 - positive_predicted_value: 0.4931 - false_discovery_rate: 0.5069 - negative_predicted_value: 0.4375 - false_omission_rate: 0.5625 - binary_demographic_parity_diff: 128.0000 - demographic_parity: 144.0000 - binary_equalized_odds_diff: -0.8000 - binary_proportional_parity_diff: 0.8000 - proportional_parity: 0.9000 - binary_predictive_rate_parity_diff: 0.0556 - predictive_rate_parity: 0.4931 - binary_accuracy_parity_diff: -0.0250 - accuracy_parity: 0.4875 - false_negative_rate_parity_diff: 0.8000 - false_positive_rate_parity_diff: -0.8000 - binary_negative_predictive_rate_parity_diff: -0.0556 - negative_predictive_rate_parity: 0.4931 - binary_specificity_parity_diff: 0.8000 - val_loss: 0.6932 - val_accuracy: 0.5000 - val_true_positives_231: 20.0000 - val_true_negatives_154: 0.0000e+00 - val_false_positives_187: 20.0000 - val_false_negatives_198: 0.0000e+00 - val_true_positive_rate: 1.0000 - val_true_negative_rate: 0.0000e+00 - val_false_positive_rate: 1.0000 - val_false_negative_rate: 0.0000e+00 - val_positive_predicted_value: 0.5000 - val_false_discovery_rate: 0.5000 - val_negative_predicted_value: 0.0000e+00 - val_false_omission_rate: 0.0000e+00 - val_binary_demographic_parity_diff: 40.0000 - val_demographic_parity: 40.0000 - val_binary_equalized_odds_diff: -1.0000 - val_binary_proportional_parity_diff: 1.0000 - val_proportional_parity: 1.0000 - val_binary_predictive_rate_parity_diff: 0.5000 - val_predictive_rate_parity: 0.5000 - val_binary_accuracy_parity_diff: 0.0000e+00 - val_accuracy_parity: 0.5000 - val_false_negative_rate_parity_diff: 1.0000 - val_false_positive_rate_parity_diff: -1.0000 - val_binary_negative_predictive_rate_parity_diff: -0.5000 - val_negative_predictive_rate_parity: 0.5000 - val_binary_specificity_parity_diff: 1.0000\n",
      "Epoch 5/20\n",
      "5/5 [==============================] - 140s 28s/step - loss: 0.7005 - accuracy: 0.5000 - true_positives_231: 80.0000 - true_negatives_154: 0.0000e+00 - false_positives_187: 80.0000 - false_negatives_198: 0.0000e+00 - true_positive_rate: 1.0000 - true_negative_rate: 0.0000e+00 - false_positive_rate: 1.0000 - false_negative_rate: 0.0000e+00 - positive_predicted_value: 0.5000 - false_discovery_rate: 0.5000 - negative_predicted_value: 0.0000e+00 - false_omission_rate: 0.0000e+00 - binary_demographic_parity_diff: 160.0000 - demographic_parity: 160.0000 - binary_equalized_odds_diff: -1.0000 - binary_proportional_parity_diff: 1.0000 - proportional_parity: 1.0000 - binary_predictive_rate_parity_diff: 0.5000 - predictive_rate_parity: 0.5000 - binary_accuracy_parity_diff: 0.0000e+00 - accuracy_parity: 0.5000 - false_negative_rate_parity_diff: 1.0000 - false_positive_rate_parity_diff: -1.0000 - binary_negative_predictive_rate_parity_diff: -0.5000 - negative_predictive_rate_parity: 0.5000 - binary_specificity_parity_diff: 1.0000 - val_loss: 0.6935 - val_accuracy: 0.5000 - val_true_positives_231: 20.0000 - val_true_negatives_154: 0.0000e+00 - val_false_positives_187: 20.0000 - val_false_negatives_198: 0.0000e+00 - val_true_positive_rate: 1.0000 - val_true_negative_rate: 0.0000e+00 - val_false_positive_rate: 1.0000 - val_false_negative_rate: 0.0000e+00 - val_positive_predicted_value: 0.5000 - val_false_discovery_rate: 0.5000 - val_negative_predicted_value: 0.0000e+00 - val_false_omission_rate: 0.0000e+00 - val_binary_demographic_parity_diff: 40.0000 - val_demographic_parity: 40.0000 - val_binary_equalized_odds_diff: -1.0000 - val_binary_proportional_parity_diff: 1.0000 - val_proportional_parity: 1.0000 - val_binary_predictive_rate_parity_diff: 0.5000 - val_predictive_rate_parity: 0.5000 - val_binary_accuracy_parity_diff: 0.0000e+00 - val_accuracy_parity: 0.5000 - val_false_negative_rate_parity_diff: 1.0000 - val_false_positive_rate_parity_diff: -1.0000 - val_binary_negative_predictive_rate_parity_diff: -0.5000 - val_negative_predictive_rate_parity: 0.5000 - val_binary_specificity_parity_diff: 1.0000\n",
      "Epoch 6/20\n",
      "2/5 [===========>..................] - ETA: 1:46 - loss: 0.6912 - accuracy: 0.5312 - true_positives_231: 34.0000 - true_negatives_154: 0.0000e+00 - false_positives_187: 30.0000 - false_negatives_198: 0.0000e+00 - true_positive_rate: 1.0000 - true_negative_rate: 0.0000e+00 - false_positive_rate: 1.0000 - false_negative_rate: 0.0000e+00 - positive_predicted_value: 0.5312 - false_discovery_rate: 0.4688 - negative_predicted_value: 0.0000e+00 - false_omission_rate: 0.0000e+00 - binary_demographic_parity_diff: 64.0000 - demographic_parity: 64.0000 - binary_equalized_odds_diff: -1.0000 - binary_proportional_parity_diff: 1.0000 - proportional_parity: 1.0000 - binary_predictive_rate_parity_diff: 0.5312 - predictive_rate_parity: 0.5312 - binary_accuracy_parity_diff: 0.0625 - accuracy_parity: 0.5312 - false_negative_rate_parity_diff: 1.0000 - false_positive_rate_parity_diff: -1.0000 - binary_negative_predictive_rate_parity_diff: -0.5312 - negative_predictive_rate_parity: 0.5312 - binary_specificity_parity_diff: 1.0000"
     ]
    },
    {
     "ename": "KeyboardInterrupt",
     "evalue": "",
     "output_type": "error",
     "traceback": [
      "\u001b[0;31m---------------------------------------------------------------------------\u001b[0m",
      "\u001b[0;31mKeyboardInterrupt\u001b[0m                         Traceback (most recent call last)",
      "\u001b[0;32m/tmp/ipykernel_19991/1115219501.py\u001b[0m in \u001b[0;36m<module>\u001b[0;34m\u001b[0m\n\u001b[1;32m      1\u001b[0m \u001b[0mepochs\u001b[0m \u001b[0;34m=\u001b[0m \u001b[0;36m20\u001b[0m\u001b[0;34m\u001b[0m\u001b[0;34m\u001b[0m\u001b[0m\n\u001b[0;32m----> 2\u001b[0;31m \u001b[0mbase_model\u001b[0m\u001b[0;34m.\u001b[0m\u001b[0mfit\u001b[0m\u001b[0;34m(\u001b[0m\u001b[0mdata\u001b[0m\u001b[0;34m[\u001b[0m\u001b[0;36m0\u001b[0m\u001b[0;34m]\u001b[0m\u001b[0;34m,\u001b[0m \u001b[0mepochs\u001b[0m\u001b[0;34m=\u001b[0m\u001b[0mepochs\u001b[0m\u001b[0;34m,\u001b[0m \u001b[0mvalidation_data\u001b[0m\u001b[0;34m=\u001b[0m\u001b[0mdata\u001b[0m\u001b[0;34m[\u001b[0m\u001b[0;36m1\u001b[0m\u001b[0;34m]\u001b[0m\u001b[0;34m)\u001b[0m\u001b[0;34m\u001b[0m\u001b[0;34m\u001b[0m\u001b[0m\n\u001b[0m",
      "\u001b[0;32m~/.local/lib/python3.8/site-packages/keras/engine/training.py\u001b[0m in \u001b[0;36mfit\u001b[0;34m(self, x, y, batch_size, epochs, verbose, callbacks, validation_split, validation_data, shuffle, class_weight, sample_weight, initial_epoch, steps_per_epoch, validation_steps, validation_batch_size, validation_freq, max_queue_size, workers, use_multiprocessing)\u001b[0m\n\u001b[1;32m   1182\u001b[0m                 _r=1):\n\u001b[1;32m   1183\u001b[0m               \u001b[0mcallbacks\u001b[0m\u001b[0;34m.\u001b[0m\u001b[0mon_train_batch_begin\u001b[0m\u001b[0;34m(\u001b[0m\u001b[0mstep\u001b[0m\u001b[0;34m)\u001b[0m\u001b[0;34m\u001b[0m\u001b[0;34m\u001b[0m\u001b[0m\n\u001b[0;32m-> 1184\u001b[0;31m               \u001b[0mtmp_logs\u001b[0m \u001b[0;34m=\u001b[0m \u001b[0mself\u001b[0m\u001b[0;34m.\u001b[0m\u001b[0mtrain_function\u001b[0m\u001b[0;34m(\u001b[0m\u001b[0miterator\u001b[0m\u001b[0;34m)\u001b[0m\u001b[0;34m\u001b[0m\u001b[0;34m\u001b[0m\u001b[0m\n\u001b[0m\u001b[1;32m   1185\u001b[0m               \u001b[0;32mif\u001b[0m \u001b[0mdata_handler\u001b[0m\u001b[0;34m.\u001b[0m\u001b[0mshould_sync\u001b[0m\u001b[0;34m:\u001b[0m\u001b[0;34m\u001b[0m\u001b[0;34m\u001b[0m\u001b[0m\n\u001b[1;32m   1186\u001b[0m                 \u001b[0mcontext\u001b[0m\u001b[0;34m.\u001b[0m\u001b[0masync_wait\u001b[0m\u001b[0;34m(\u001b[0m\u001b[0;34m)\u001b[0m\u001b[0;34m\u001b[0m\u001b[0;34m\u001b[0m\u001b[0m\n",
      "\u001b[0;32m~/.local/lib/python3.8/site-packages/tensorflow/python/eager/def_function.py\u001b[0m in \u001b[0;36m__call__\u001b[0;34m(self, *args, **kwds)\u001b[0m\n\u001b[1;32m    883\u001b[0m \u001b[0;34m\u001b[0m\u001b[0m\n\u001b[1;32m    884\u001b[0m       \u001b[0;32mwith\u001b[0m \u001b[0mOptionalXlaContext\u001b[0m\u001b[0;34m(\u001b[0m\u001b[0mself\u001b[0m\u001b[0;34m.\u001b[0m\u001b[0m_jit_compile\u001b[0m\u001b[0;34m)\u001b[0m\u001b[0;34m:\u001b[0m\u001b[0;34m\u001b[0m\u001b[0;34m\u001b[0m\u001b[0m\n\u001b[0;32m--> 885\u001b[0;31m         \u001b[0mresult\u001b[0m \u001b[0;34m=\u001b[0m \u001b[0mself\u001b[0m\u001b[0;34m.\u001b[0m\u001b[0m_call\u001b[0m\u001b[0;34m(\u001b[0m\u001b[0;34m*\u001b[0m\u001b[0margs\u001b[0m\u001b[0;34m,\u001b[0m \u001b[0;34m**\u001b[0m\u001b[0mkwds\u001b[0m\u001b[0;34m)\u001b[0m\u001b[0;34m\u001b[0m\u001b[0;34m\u001b[0m\u001b[0m\n\u001b[0m\u001b[1;32m    886\u001b[0m \u001b[0;34m\u001b[0m\u001b[0m\n\u001b[1;32m    887\u001b[0m       \u001b[0mnew_tracing_count\u001b[0m \u001b[0;34m=\u001b[0m \u001b[0mself\u001b[0m\u001b[0;34m.\u001b[0m\u001b[0mexperimental_get_tracing_count\u001b[0m\u001b[0;34m(\u001b[0m\u001b[0;34m)\u001b[0m\u001b[0;34m\u001b[0m\u001b[0;34m\u001b[0m\u001b[0m\n",
      "\u001b[0;32m~/.local/lib/python3.8/site-packages/tensorflow/python/eager/def_function.py\u001b[0m in \u001b[0;36m_call\u001b[0;34m(self, *args, **kwds)\u001b[0m\n\u001b[1;32m    915\u001b[0m       \u001b[0;31m# In this case we have created variables on the first call, so we run the\u001b[0m\u001b[0;34m\u001b[0m\u001b[0;34m\u001b[0m\u001b[0;34m\u001b[0m\u001b[0m\n\u001b[1;32m    916\u001b[0m       \u001b[0;31m# defunned version which is guaranteed to never create variables.\u001b[0m\u001b[0;34m\u001b[0m\u001b[0;34m\u001b[0m\u001b[0;34m\u001b[0m\u001b[0m\n\u001b[0;32m--> 917\u001b[0;31m       \u001b[0;32mreturn\u001b[0m \u001b[0mself\u001b[0m\u001b[0;34m.\u001b[0m\u001b[0m_stateless_fn\u001b[0m\u001b[0;34m(\u001b[0m\u001b[0;34m*\u001b[0m\u001b[0margs\u001b[0m\u001b[0;34m,\u001b[0m \u001b[0;34m**\u001b[0m\u001b[0mkwds\u001b[0m\u001b[0;34m)\u001b[0m  \u001b[0;31m# pylint: disable=not-callable\u001b[0m\u001b[0;34m\u001b[0m\u001b[0;34m\u001b[0m\u001b[0m\n\u001b[0m\u001b[1;32m    918\u001b[0m     \u001b[0;32melif\u001b[0m \u001b[0mself\u001b[0m\u001b[0;34m.\u001b[0m\u001b[0m_stateful_fn\u001b[0m \u001b[0;32mis\u001b[0m \u001b[0;32mnot\u001b[0m \u001b[0;32mNone\u001b[0m\u001b[0;34m:\u001b[0m\u001b[0;34m\u001b[0m\u001b[0;34m\u001b[0m\u001b[0m\n\u001b[1;32m    919\u001b[0m       \u001b[0;31m# Release the lock early so that multiple threads can perform the call\u001b[0m\u001b[0;34m\u001b[0m\u001b[0;34m\u001b[0m\u001b[0;34m\u001b[0m\u001b[0m\n",
      "\u001b[0;32m~/.local/lib/python3.8/site-packages/tensorflow/python/eager/function.py\u001b[0m in \u001b[0;36m__call__\u001b[0;34m(self, *args, **kwargs)\u001b[0m\n\u001b[1;32m   3037\u001b[0m       (graph_function,\n\u001b[1;32m   3038\u001b[0m        filtered_flat_args) = self._maybe_define_function(args, kwargs)\n\u001b[0;32m-> 3039\u001b[0;31m     return graph_function._call_flat(\n\u001b[0m\u001b[1;32m   3040\u001b[0m         filtered_flat_args, captured_inputs=graph_function.captured_inputs)  # pylint: disable=protected-access\n\u001b[1;32m   3041\u001b[0m \u001b[0;34m\u001b[0m\u001b[0m\n",
      "\u001b[0;32m~/.local/lib/python3.8/site-packages/tensorflow/python/eager/function.py\u001b[0m in \u001b[0;36m_call_flat\u001b[0;34m(self, args, captured_inputs, cancellation_manager)\u001b[0m\n\u001b[1;32m   1961\u001b[0m         and executing_eagerly):\n\u001b[1;32m   1962\u001b[0m       \u001b[0;31m# No tape is watching; skip to running the function.\u001b[0m\u001b[0;34m\u001b[0m\u001b[0;34m\u001b[0m\u001b[0;34m\u001b[0m\u001b[0m\n\u001b[0;32m-> 1963\u001b[0;31m       return self._build_call_outputs(self._inference_function.call(\n\u001b[0m\u001b[1;32m   1964\u001b[0m           ctx, args, cancellation_manager=cancellation_manager))\n\u001b[1;32m   1965\u001b[0m     forward_backward = self._select_forward_and_backward_functions(\n",
      "\u001b[0;32m~/.local/lib/python3.8/site-packages/tensorflow/python/eager/function.py\u001b[0m in \u001b[0;36mcall\u001b[0;34m(self, ctx, args, cancellation_manager)\u001b[0m\n\u001b[1;32m    589\u001b[0m       \u001b[0;32mwith\u001b[0m \u001b[0m_InterpolateFunctionError\u001b[0m\u001b[0;34m(\u001b[0m\u001b[0mself\u001b[0m\u001b[0;34m)\u001b[0m\u001b[0;34m:\u001b[0m\u001b[0;34m\u001b[0m\u001b[0;34m\u001b[0m\u001b[0m\n\u001b[1;32m    590\u001b[0m         \u001b[0;32mif\u001b[0m \u001b[0mcancellation_manager\u001b[0m \u001b[0;32mis\u001b[0m \u001b[0;32mNone\u001b[0m\u001b[0;34m:\u001b[0m\u001b[0;34m\u001b[0m\u001b[0;34m\u001b[0m\u001b[0m\n\u001b[0;32m--> 591\u001b[0;31m           outputs = execute.execute(\n\u001b[0m\u001b[1;32m    592\u001b[0m               \u001b[0mstr\u001b[0m\u001b[0;34m(\u001b[0m\u001b[0mself\u001b[0m\u001b[0;34m.\u001b[0m\u001b[0msignature\u001b[0m\u001b[0;34m.\u001b[0m\u001b[0mname\u001b[0m\u001b[0;34m)\u001b[0m\u001b[0;34m,\u001b[0m\u001b[0;34m\u001b[0m\u001b[0;34m\u001b[0m\u001b[0m\n\u001b[1;32m    593\u001b[0m               \u001b[0mnum_outputs\u001b[0m\u001b[0;34m=\u001b[0m\u001b[0mself\u001b[0m\u001b[0;34m.\u001b[0m\u001b[0m_num_outputs\u001b[0m\u001b[0;34m,\u001b[0m\u001b[0;34m\u001b[0m\u001b[0;34m\u001b[0m\u001b[0m\n",
      "\u001b[0;32m~/.local/lib/python3.8/site-packages/tensorflow/python/eager/execute.py\u001b[0m in \u001b[0;36mquick_execute\u001b[0;34m(op_name, num_outputs, inputs, attrs, ctx, name)\u001b[0m\n\u001b[1;32m     57\u001b[0m   \u001b[0;32mtry\u001b[0m\u001b[0;34m:\u001b[0m\u001b[0;34m\u001b[0m\u001b[0;34m\u001b[0m\u001b[0m\n\u001b[1;32m     58\u001b[0m     \u001b[0mctx\u001b[0m\u001b[0;34m.\u001b[0m\u001b[0mensure_initialized\u001b[0m\u001b[0;34m(\u001b[0m\u001b[0;34m)\u001b[0m\u001b[0;34m\u001b[0m\u001b[0;34m\u001b[0m\u001b[0m\n\u001b[0;32m---> 59\u001b[0;31m     tensors = pywrap_tfe.TFE_Py_Execute(ctx._handle, device_name, op_name,\n\u001b[0m\u001b[1;32m     60\u001b[0m                                         inputs, attrs, num_outputs)\n\u001b[1;32m     61\u001b[0m   \u001b[0;32mexcept\u001b[0m \u001b[0mcore\u001b[0m\u001b[0;34m.\u001b[0m\u001b[0m_NotOkStatusException\u001b[0m \u001b[0;32mas\u001b[0m \u001b[0me\u001b[0m\u001b[0;34m:\u001b[0m\u001b[0;34m\u001b[0m\u001b[0;34m\u001b[0m\u001b[0m\n",
      "\u001b[0;31mKeyboardInterrupt\u001b[0m: "
     ]
    }
   ],
   "source": [
    "epochs = 20\n",
    "base_model.fit(data[0], epochs=epochs, validation_data=data[1])"
   ]
  },
  {
   "cell_type": "code",
   "execution_count": 76,
   "id": "a40e0e86-52a8-422d-807b-bd250e21483b",
   "metadata": {},
   "outputs": [
    {
     "name": "stdout",
     "output_type": "stream",
     "text": [
      "INFO:tensorflow:Assets written to: /tmp/model/assets\n"
     ]
    }
   ],
   "source": [
    "base_model.save('/tmp/model')"
   ]
  }
 ],
 "metadata": {
  "kernelspec": {
   "display_name": "Python 3 (ipykernel)",
   "language": "python",
   "name": "python3"
  },
  "language_info": {
   "codemirror_mode": {
    "name": "ipython",
    "version": 3
   },
   "file_extension": ".py",
   "mimetype": "text/x-python",
   "name": "python",
   "nbconvert_exporter": "python",
   "pygments_lexer": "ipython3",
   "version": "3.8.10"
  }
 },
 "nbformat": 4,
 "nbformat_minor": 5
}
