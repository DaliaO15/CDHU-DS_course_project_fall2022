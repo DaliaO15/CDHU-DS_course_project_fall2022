{
 "cells": [
  {
   "cell_type": "code",
   "execution_count": null,
   "id": "d1a0da16-d9c1-4c26-865d-483d02f4122c",
   "metadata": {},
   "outputs": [],
   "source": [
    "\"\"\"\n",
    "1. Load faces from museum data set\n",
    "2. Load base_model that will be transfered\n",
    "    2.1. Freeze its layers\n",
    "3. Build new model on top of it\n",
    "4. Train new model with museum data set\n",
    "5. TODO: Fine tune?\n",
    "\"\"\""
   ]
  },
  {
   "cell_type": "code",
   "execution_count": 6,
   "id": "1b103103-0653-4270-a274-26c8ac7717b2",
   "metadata": {},
   "outputs": [],
   "source": [
    "import numpy as np\n",
    "from tensorflow import keras\n",
    "from tensorflow.keras import layers\n",
    "import tensorflow as tf\n",
    "import fairnessMetrics as fm"
   ]
  },
  {
   "cell_type": "code",
   "execution_count": 7,
   "id": "810cef3f-affa-46c8-8eab-fed78dc44258",
   "metadata": {},
   "outputs": [],
   "source": [
    "# \n",
    "def readImages(folderName, image_size, batch_size):\n",
    "    train_ds = keras.preprocessing.image_dataset_from_directory(\n",
    "        folderName,\n",
    "        validation_split=0.2,\n",
    "        subset=\"training\",\n",
    "        seed=1337,\n",
    "        image_size=image_size,\n",
    "        batch_size=batch_size\n",
    "    )\n",
    "    val_ds = keras.preprocessing.image_dataset_from_directory(\n",
    "        folderName,\n",
    "        validation_split=0.2,\n",
    "        subset=\"validation\",\n",
    "        seed=1337,\n",
    "        image_size=image_size,\n",
    "        batch_size=batch_size\n",
    "    )\n",
    "    return (train_ds, val_ds)"
   ]
  },
  {
   "cell_type": "code",
   "execution_count": null,
   "id": "18eb9935-af68-419f-b5ba-d7bb00b399eb",
   "metadata": {},
   "outputs": [],
   "source": [
    "# Load pretrained base model.\n",
    "base_model = tf.keras.models.load_model('tmp/model') \n",
    "\n",
    "# Freeze the base_model\n",
    "base_model.trainable = False\n",
    "\n",
    "# Create new model on top\n",
    "inputs = keras.Input(shape=(150, 150, 3))\n",
    "\n",
    "# x = data_augmentation(inputs)  # TODO: Apply random data augmentation"
   ]
  },
  {
   "cell_type": "code",
   "execution_count": null,
   "id": "f35e5803-8024-4b2d-8bc2-35b423f87c78",
   "metadata": {},
   "outputs": [],
   "source": [
    "# The base model contains batchnorm layers. We want to keep them in inference mode\n",
    "# when we unfreeze the base model for fine-tuning, so we make sure that the\n",
    "# base_model is running in inference mode here.\n",
    "x = base_model(x, training=False)\n",
    "\n",
    "# What layers do we want to add?\n",
    "x = keras.layers.GlobalAveragePooling2D()(x)\n",
    "x = keras.layers.Dropout(0.2)(x)  # Regularize with dropout\n",
    "\n",
    "outputs = keras.layers.Dense(1)(x)\n",
    "model = keras.Model(inputs, outputs)\n",
    "\n",
    "model.summary()"
   ]
  },
  {
   "cell_type": "code",
   "execution_count": null,
   "id": "9b57708b-f913-418d-b850-6d5fd168cbf6",
   "metadata": {},
   "outputs": [],
   "source": [
    "metrics_list = [\"accuracy\",\n",
    "                tf.keras.metrics.TruePositives(), \n",
    "                tf.keras.metrics.TrueNegatives(),\n",
    "                tf.keras.metrics.FalsePositives(), \n",
    "                tf.keras.metrics.FalseNegatives(), \n",
    "                fm.TruePositiveRate(),\n",
    "                fm.TrueNegativeRate(),\n",
    "                fm.FalsePositiveRate(),\n",
    "                fm.FalseNegativeRate(),\n",
    "                fm.PositivePredictedValue(),\n",
    "                fm.FalseDiscoveryRate(),\n",
    "                fm.NegativePredictedValue(),\n",
    "                fm.FalseOmissionRate(),\n",
    "                fm.BinaryDemographicParityDiff(),\n",
    "                fm.DemographicParity(),\n",
    "                fm.BinaryEqualizedOddsDiff(),\n",
    "                fm.BinaryProportionalParityDiff(),\n",
    "                fm.ProportionalParity(),\n",
    "                fm.BinaryPredictiveRateParityDiff(),\n",
    "                fm.PredictiveRateParity(),\n",
    "                fm.BinaryAccuracyParityDiff(),\n",
    "                fm.AccuracyParity(),\n",
    "                fm.BinaryFalseNegativeRateParityDiff(),\n",
    "                fm.BinaryFalsePositiveRateParityDiff(),\n",
    "                fm.BinaryNegativePredictiveRateParityDiff(),\n",
    "                fm.NegativePredictiveRateParity(),\n",
    "                fm.BinarySpecificityParityDiff()]"
   ]
  },
  {
   "cell_type": "code",
   "execution_count": null,
   "id": "ecf8b212-65dd-434f-ab4c-9da27061b6f5",
   "metadata": {},
   "outputs": [],
   "source": [
    "# Train new model\n",
    "model.compile(\n",
    "    optimizer=keras.optimizers.Adam(),\n",
    "    loss=keras.losses.BinaryCrossentropy(from_logits=True),\n",
    "    metrics=metrics_list,\n",
    ")\n",
    "\n",
    "epochs = 20\n",
    "model.fit(train_ds, epochs=epochs, validation_data=validation_ds)"
   ]
  }
 ],
 "metadata": {
  "kernelspec": {
   "display_name": "Python 3 (ipykernel)",
   "language": "python",
   "name": "python3"
  },
  "language_info": {
   "codemirror_mode": {
    "name": "ipython",
    "version": 3
   },
   "file_extension": ".py",
   "mimetype": "text/x-python",
   "name": "python",
   "nbconvert_exporter": "python",
   "pygments_lexer": "ipython3",
   "version": "3.8.10"
  }
 },
 "nbformat": 4,
 "nbformat_minor": 5
}
