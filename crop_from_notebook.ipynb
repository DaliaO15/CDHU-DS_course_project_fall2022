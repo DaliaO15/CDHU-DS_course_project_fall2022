{
 "cells": [
  {
   "cell_type": "code",
   "execution_count": 33,
   "id": "df9dc001-337c-4770-9256-f6f641fc6717",
   "metadata": {},
   "outputs": [
    {
     "name": "stdout",
     "output_type": "stream",
     "text": [
      "Iterating over files in directory input_dir/test2\n",
      "input_dir/test2/bmc.jpg\n",
      "Face detection with CNN started on image bmc.jpg\n",
      "Run time on image 28.7274272441864\n",
      "input_dir/test2/stockphoto.jpg\n",
      "Face detection with CNN started on image stockphoto.jpg\n",
      "Run time on image 37.93220806121826\n",
      "Processed 2 images\n",
      "Detected 5 faces\n",
      "Total runtime 66.7408938407898\n"
     ]
    }
   ],
   "source": [
    "# input_dir/test1 contains one image, containing 4 faces\n",
    "# input_dir/test2 contains two images, the first contains 1 face, the second contains 4 faces.\n",
    "!python3 basic_fd_cropping_CNN.py -sf input_dir/test2 -ef cropped"
   ]
  }
 ],
 "metadata": {
  "kernelspec": {
   "display_name": "Python 3 (ipykernel)",
   "language": "python",
   "name": "python3"
  },
  "language_info": {
   "codemirror_mode": {
    "name": "ipython",
    "version": 3
   },
   "file_extension": ".py",
   "mimetype": "text/x-python",
   "name": "python",
   "nbconvert_exporter": "python",
   "pygments_lexer": "ipython3",
   "version": "3.8.10"
  }
 },
 "nbformat": 4,
 "nbformat_minor": 5
}
